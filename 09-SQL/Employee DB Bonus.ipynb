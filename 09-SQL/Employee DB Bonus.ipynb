{
 "cells": [
  {
   "cell_type": "code",
   "execution_count": 16,
   "metadata": {
    "scrolled": true
   },
   "outputs": [],
   "source": [
    "# Imports\n",
    "import pandas as pd\n",
    "from sqlalchemy import create_engine, func\n",
    "from sqlalchemy.ext.automap import automap_base\n",
    "from sqlalchemy.orm import Session\n",
    "from config import database_url"
   ]
  },
  {
   "cell_type": "code",
   "execution_count": 17,
   "metadata": {},
   "outputs": [],
   "source": [
    "# Look at the databse_url"
   ]
  },
  {
   "cell_type": "code",
   "execution_count": 19,
   "metadata": {},
   "outputs": [
    {
     "name": "stdout",
     "output_type": "stream",
     "text": [
      "['employees', 'dept_employee', 'departments', 'dept_manager', 'salaries', 'titles']\n"
     ]
    }
   ],
   "source": [
    "# Set up the connection to our database, and configure our jupyter notebook to query the DB\n",
    "\n",
    "# Set up the connection and environment to our database\n",
    "engine = create_engine(database_url)\n",
    "connection = engine.connect()\n",
    "\n",
    "# Get information about the tables and have reference to them\n",
    "Base = automap_base()\n",
    "\n",
    "# Get the tables\n",
    "Base.prepare(engine, reflect = True)\n",
    "\n",
    "# Find what classes (tables) exist\n",
    "print(Base.classes.keys())\n",
    "\n",
    "# inspector = inspect(engine)\n",
    "# inspector.get_table_names()\n",
    "\n",
    "# Save references to each table (class)\n",
    "Dept_Manager = Base.classes.dept_manager\n",
    "Departments = Base.classes.departments\n",
    "Employees = Base.classes.employees\n",
    "Dept_Employee = Base.classes.dept_employee\n",
    "Titles = Base.classes.titles\n",
    "Salaries = Base.classes.salaries"
   ]
  },
  {
   "cell_type": "code",
   "execution_count": null,
   "metadata": {},
   "outputs": [],
   "source": [
    "# Create a link to the database and execute queries\n",
    "session = Session(engine)"
   ]
  },
  {
   "cell_type": "code",
   "execution_count": 13,
   "metadata": {},
   "outputs": [
    {
     "data": {
      "text/plain": [
       "['employees',\n",
       " 'dept_employee',\n",
       " 'departments',\n",
       " 'dept_manager',\n",
       " 'salaries',\n",
       " 'titles']"
      ]
     },
     "execution_count": 13,
     "metadata": {},
     "output_type": "execute_result"
    }
   ],
   "source": [
    "from sqlalchemy import inspect\n",
    "\n"
   ]
  },
  {
   "cell_type": "code",
   "execution_count": null,
   "metadata": {},
   "outputs": [],
   "source": [
    "# Task: Bar chart -> average salary by title\n",
    "# What table(s) do we need to use -> titles, salaries, employees\n",
    "\n",
    "# RAW SQL Version:\n",
    "# SELECT title, AVG(salary)\n",
    "# FROM employees\n",
    "# INNER JOIN titles\n",
    "# ON (employees.emp_no = titles.emp_no)\n",
    "# INNER JOIN salaries\n",
    "# ON (employees.emp_no = salaries.emp_no)\n",
    "# GROUP BY title\n",
    "\n",
    "# SQLAlchemy Version:\n",
    "# db.session.query(User.email).\\\n",
    "#     join(Account, Account.organization == User.organization).\\\n",
    "#     filter(Account.name == 'some name')\n",
    "\n",
    "# Join all 3 tables\n",
    "query_result = session.query(Employees.emp_no, Titles.title, Salaries.salary)\\\n",
    "    .join(Titles, Employees.emp_no == Titles.emp_no)\\\n",
    "    .join(Salaries, Employees.emp_no == Salaries.emp_no)\n",
    "\n",
    "query_result"
   ]
  },
  {
   "cell_type": "code",
   "execution_count": null,
   "metadata": {},
   "outputs": [],
   "source": [
    "query_result.all()"
   ]
  },
  {
   "cell_type": "code",
   "execution_count": null,
   "metadata": {},
   "outputs": [],
   "source": [
    "func.avg()"
   ]
  },
  {
   "cell_type": "code",
   "execution_count": null,
   "metadata": {},
   "outputs": [],
   "source": [
    "# Query the average salary for each title\n",
    "salaries_by_title = session.query(Titles.title, func.avg(Salaries.salary))\\\n",
    "    .join(Titles, Employees.emp_no == Titles.emp_no)\\\n",
    "    .join(Salaries, Employees.emp_no == Salaries.emp_no)\\\n",
    "    .group_by(Titles.title)\n",
    "    \n",
    "salaries_by_title.all()"
   ]
  }
 ],
 "metadata": {
  "kernelspec": {
   "display_name": "Python 3",
   "language": "python",
   "name": "python3"
  },
  "language_info": {
   "codemirror_mode": {
    "name": "ipython",
    "version": 3
   },
   "file_extension": ".py",
   "mimetype": "text/x-python",
   "name": "python",
   "nbconvert_exporter": "python",
   "pygments_lexer": "ipython3",
   "version": "3.6.5"
  }
 },
 "nbformat": 4,
 "nbformat_minor": 2
}
